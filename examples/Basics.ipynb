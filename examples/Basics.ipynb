{
 "cells": [
  {
   "cell_type": "markdown",
   "metadata": {},
   "source": [
    "# Toree Setup:\n",
    "- https://toree.apache.org/\n",
    "- http://blog.thedataincubator.com/2017/04/spark-2-0-on-jupyter-with-toree/\n",
    "- https://gist.github.com/mikecroucher/b57a9e5a4c1a1a2045f30a901b186bdf\n",
    "- https://github.com/apache/incubator-toree/blob/master/etc/examples/notebooks/magic-tutorial.ipynb\n",
    "- https://github.com/asimjalis/apache-toree-quickstart"
   ]
  },
  {
   "cell_type": "code",
   "execution_count": 7,
   "metadata": {},
   "outputs": [
    {
     "name": "stdout",
     "output_type": "stream",
     "text": [
      "Marking org.platanios:tensorflow:0.1.0-SNAPSHOT for download\n",
      "Preparing to fetch from:\n",
      "-> file:/tmp/toree-tmp-dir2506791975093506357/toree_add_deps/\n",
      "-> https://oss.sonatype.org/content/repositories/snapshots\n",
      "-> https://repo1.maven.org/maven2\n",
      "-> Failed to resolve org.platanios:tensorflow:0.1.0-SNAPSHOT\n",
      "    -> not found: /tmp/toree-tmp-dir2506791975093506357/toree_add_deps/cache/org.platanios/tensorflow/ivy-0.1.0-SNAPSHOT.xml\n",
      "    -> not found: https://oss.sonatype.org/content/repositories/snapshots/org/platanios/tensorflow/0.1.0-SNAPSHOT/tensorflow-0.1.0-SNAPSHOT.pom\n",
      "    -> not found: https://repo1.maven.org/maven2/org/platanios/tensorflow/0.1.0-SNAPSHOT/tensorflow-0.1.0-SNAPSHOT.pom\n"
     ]
    }
   ],
   "source": [
    "%AddDeps org.platanios tensorflow 0.1.0-SNAPSHOT --repository https://oss.sonatype.org/content/repositories/snapshots"
   ]
  },
  {
   "cell_type": "code",
   "execution_count": 9,
   "metadata": {},
   "outputs": [
    {
     "name": "stdout",
     "output_type": "stream",
     "text": [
      "Marking org.platanios:tensorflow:0.1.0-SNAPSHOT for download\n",
      "Preparing to fetch from:\n",
      "-> file:/tmp/toree-tmp-dir2506791975093506357/toree_add_deps/\n",
      "-> https://oss.sonatype.org/content/repositories/snapshots\n",
      "-> https://repo1.maven.org/maven2\n",
      "-> Failed to resolve org.platanios:tensorflow:0.1.0-SNAPSHOT\n",
      "    -> not found: /tmp/toree-tmp-dir2506791975093506357/toree_add_deps/cache/org.platanios/tensorflow/ivy-0.1.0-SNAPSHOT.xml\n",
      "    -> not found: https://oss.sonatype.org/content/repositories/snapshots/org/platanios/tensorflow/0.1.0-SNAPSHOT/tensorflow-0.1.0-SNAPSHOT.pom\n",
      "    -> not found: https://repo1.maven.org/maven2/org/platanios/tensorflow/0.1.0-SNAPSHOT/tensorflow-0.1.0-SNAPSHOT.pom\n"
     ]
    }
   ],
   "source": [
    "%AddDeps org.platanios tensorflow 0.1.0-SNAPSHOT --classifier linux-cpu-x86_64 --repository https://oss.sonatype.org/content/repositories/snapshots\n"
   ]
  },
  {
   "cell_type": "code",
   "execution_count": 3,
   "metadata": {},
   "outputs": [],
   "source": [
    "import org.platanios.tensorflow.api._\n",
    "import org.platanios.tensorflow.api.ops.variables.ConstantInitializer"
   ]
  },
  {
   "cell_type": "code",
   "execution_count": 4,
   "metadata": {},
   "outputs": [
    {
     "data": {
      "text/plain": [
       "session = Session(org.platanios.tensorflow.api.core.Graph$Reference@2708ea1,139664757882480)\n"
      ]
     },
     "metadata": {},
     "output_type": "display_data"
    },
    {
     "data": {
      "text/plain": [
       "Session(org.platanios.tensorflow.api.core.Graph$Reference@2708ea1,139664757882480)"
      ]
     },
     "execution_count": 4,
     "metadata": {},
     "output_type": "execute_result"
    }
   ],
   "source": [
    "val session = tf.Session()\n"
   ]
  },
  {
   "cell_type": "code",
   "execution_count": 9,
   "metadata": {},
   "outputs": [],
   "source": [
    "%%pyspark\n",
    "import tensorflow as tf"
   ]
  },
  {
   "cell_type": "code",
   "execution_count": 10,
   "metadata": {},
   "outputs": [
    {
     "data": {
      "text/plain": [
       "version 2.11.8"
      ]
     },
     "execution_count": 10,
     "metadata": {},
     "output_type": "execute_result"
    }
   ],
   "source": [
    "util.Properties.versionString"
   ]
  },
  {
   "cell_type": "code",
   "execution_count": 13,
   "metadata": {
    "collapsed": true
   },
   "outputs": [],
   "source": [
    "import org.slf4j.LoggerFactory\n",
    "import com.typesafe.scalalogging.Logger"
   ]
  },
  {
   "cell_type": "code",
   "execution_count": 14,
   "metadata": {},
   "outputs": [
    {
     "data": {
      "text/plain": [
       "logger = com.typesafe.scalalogging.Logger@515f5e3a\n"
      ]
     },
     "metadata": {},
     "output_type": "display_data"
    },
    {
     "data": {
      "text/plain": [
       "com.typesafe.scalalogging.Logger@515f5e3a"
      ]
     },
     "execution_count": 14,
     "metadata": {},
     "output_type": "execute_result"
    }
   ],
   "source": [
    "val logger = Logger(LoggerFactory.getLogger(\"Examples / Tensors\"))"
   ]
  },
  {
   "cell_type": "code",
   "execution_count": 15,
   "metadata": {},
   "outputs": [
    {
     "data": {
      "text/plain": [
       "myTensor = Output(name = Zeros:0, shape = [3, 4], dataType = INT32)\n"
      ]
     },
     "metadata": {},
     "output_type": "display_data"
    },
    {
     "data": {
      "text/plain": [
       "Output(name = Zeros:0, shape = [3, 4], dataType = INT32)"
      ]
     },
     "execution_count": 15,
     "metadata": {},
     "output_type": "execute_result"
    }
   ],
   "source": [
    "val myTensor = tf.zeros(Shape(3, 4), INT32)\n",
    "//We can evaluate tensors with calling a run() method on our session.\n",
    "logger.info(s\"myTensor info: ${ session.run(fetches = myTensor).toString}\")\n",
    "logger.info(s\"Output of myTensor: ${ session.run(fetches = myTensor).summarize()}\")\n"
   ]
  },
  {
   "cell_type": "code",
   "execution_count": 18,
   "metadata": {},
   "outputs": [
    {
     "data": {
      "text/plain": [
       "[[ 0.  0.  0.  0.  0.  0.  0.  0.  0.  0.  0.  0.  0.  0.  0.  0.  0.  0.\n",
       "   0.  0.]]"
      ]
     },
     "execution_count": 18,
     "metadata": {},
     "output_type": "execute_result"
    }
   ],
   "source": [
    "%%pyspark\n",
    "sess = tf.Session()\n",
    "my_tensor = tf.zeros([1,20])\n",
    "sess.run(my_tensor)"
   ]
  },
  {
   "cell_type": "code",
   "execution_count": null,
   "metadata": {
    "collapsed": true
   },
   "outputs": [],
   "source": []
  }
 ],
 "metadata": {
  "kernelspec": {
   "display_name": "Apache Toree - Scala",
   "language": "scala",
   "name": "apache_toree_scala"
  },
  "language_info": {
   "codemirror_mode": "text/x-scala",
   "file_extension": ".scala",
   "mimetype": "text/x-scala",
   "name": "scala",
   "pygments_lexer": "scala",
   "version": "2.11.8"
  }
 },
 "nbformat": 4,
 "nbformat_minor": 1
}
