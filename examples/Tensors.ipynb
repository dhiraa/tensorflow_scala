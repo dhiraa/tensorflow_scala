{
 "cells": [
  {
   "cell_type": "code",
   "execution_count": 1,
   "metadata": {},
   "outputs": [
    {
     "data": {
      "text/plain": [
       "\u001b[32mimport \u001b[39m\u001b[36mammonite._, ammonite.ops._\n",
       "\u001b[39m"
      ]
     },
     "execution_count": 1,
     "metadata": {},
     "output_type": "execute_result"
    }
   ],
   "source": [
    "import ammonite._, ammonite.ops._\n",
    "interp.load.cp(pwd / \"examples-assembly-0.1.jar\")"
   ]
  },
  {
   "cell_type": "code",
   "execution_count": 1,
   "metadata": {},
   "outputs": [
    {
     "data": {
      "text/plain": [
       "\u001b[36mres0\u001b[39m: \u001b[32mClass\u001b[39m[\u001b[32m?0\u001b[39m] = class ammonite.interp.Interpreter$$anon$2"
      ]
     },
     "execution_count": 1,
     "metadata": {},
     "output_type": "execute_result"
    }
   ],
   "source": [
    "interp.getClass"
   ]
  },
  {
   "cell_type": "code",
   "execution_count": 2,
   "metadata": {},
   "outputs": [
    {
     "data": {
      "text/plain": [
       "\u001b[32mimport \u001b[39m\u001b[36morg.platanios.tensorflow.examples.LinearRegression\u001b[39m"
      ]
     },
     "execution_count": 2,
     "metadata": {},
     "output_type": "execute_result"
    }
   ],
   "source": [
    "import org.platanios.tensorflow.examples.LinearRegression"
   ]
  },
  {
   "cell_type": "code",
   "execution_count": 3,
   "metadata": {},
   "outputs": [
    {
     "name": "stdout",
     "output_type": "stream",
     "text": [
      "10:04:03.327 [pool-6-thread-15] INFO  Examples / Linear Regression - Building linear regression model.\n",
      "10:04:03.448 [pool-6-thread-15] INFO  TensorFlow Native - Failed to load the TensorFlow native library with error: no tensorflow_jni in java.library.path. Attempting to load it as a resource.\n",
      "10:04:03.453 [pool-6-thread-15] INFO  TensorFlow Native - Extracting TensorFlow native library to /tmp/libtensorflow_jni4363699124979554285.so.\n",
      "10:04:03.459 [pool-6-thread-15] INFO  TensorFlow Native - Copied 70192 bytes to /tmp/libtensorflow_jni4363699124979554285.so.\n",
      "10:04:31.504 [pool-6-thread-15] INFO  TensorFlow Native - Loaded the TensorFlow native library as a resource.\n",
      "10:04:31.783 [pool-6-thread-15] INFO  Examples / Linear Regression - Training the linear regression model.\n",
      "10:04:32.181 [pool-6-thread-15] INFO  Examples / Linear Regression - Train loss at iteration 0 = 2919.775 (weight = 1.0)\n",
      "10:04:32.439 [pool-6-thread-15] INFO  Examples / Linear Regression - Train loss at iteration 1 = 13.054582 (weight = 0.9329249)\n",
      "10:04:32.583 [pool-6-thread-15] INFO  Examples / Linear Regression - Train loss at iteration 2 = 0.07394688 (weight = 0.9379504)\n",
      "10:04:32.788 [pool-6-thread-15] INFO  Examples / Linear Regression - Train loss at iteration 3 = 3.2176723E-4 (weight = 0.9376187)\n",
      "10:04:32.877 [pool-6-thread-15] INFO  Examples / Linear Regression - Train loss at iteration 4 = 1.4737063E-6 (weight = 0.9376413)\n",
      "10:04:33.011 [pool-6-thread-15] INFO  Examples / Linear Regression - Train loss at iteration 5 = 1.0669081E-8 (weight = 0.9376394)\n",
      "10:04:33.110 [pool-6-thread-15] INFO  Examples / Linear Regression - Train loss at iteration 6 = 5.0669993E-11 (weight = 0.93763953)\n",
      "10:04:33.201 [pool-6-thread-15] INFO  Examples / Linear Regression - Train loss at iteration 7 = 0.0 (weight = 0.93763953)\n",
      "10:04:33.332 [pool-6-thread-15] INFO  Examples / Linear Regression - Train loss at iteration 8 = 0.0 (weight = 0.93763953)\n",
      "10:04:33.410 [pool-6-thread-15] INFO  Examples / Linear Regression - Train loss at iteration 9 = 0.0 (weight = 0.93763953)\n",
      "10:04:33.520 [pool-6-thread-15] INFO  Examples / Linear Regression - Train loss at iteration 10 = 0.0 (weight = 0.93763953)\n",
      "10:04:33.677 [pool-6-thread-15] INFO  Examples / Linear Regression - Train loss at iteration 11 = 0.0 (weight = 0.93763953)\n",
      "10:04:33.770 [pool-6-thread-15] INFO  Examples / Linear Regression - Train loss at iteration 12 = 0.0 (weight = 0.93763953)\n",
      "10:04:33.875 [pool-6-thread-15] INFO  Examples / Linear Regression - Train loss at iteration 13 = 0.0 (weight = 0.93763953)\n",
      "10:04:33.953 [pool-6-thread-15] INFO  Examples / Linear Regression - Train loss at iteration 14 = 0.0 (weight = 0.93763953)\n",
      "10:04:34.118 [pool-6-thread-15] INFO  Examples / Linear Regression - Train loss at iteration 15 = 0.0 (weight = 0.93763953)\n",
      "10:04:34.211 [pool-6-thread-15] INFO  Examples / Linear Regression - Train loss at iteration 16 = 0.0 (weight = 0.93763953)\n",
      "10:04:34.295 [pool-6-thread-15] INFO  Examples / Linear Regression - Train loss at iteration 17 = 0.0 (weight = 0.93763953)\n",
      "10:04:34.367 [pool-6-thread-15] INFO  Examples / Linear Regression - Train loss at iteration 18 = 0.0 (weight = 0.93763953)\n",
      "10:04:34.457 [pool-6-thread-15] INFO  Examples / Linear Regression - Train loss at iteration 19 = 0.0 (weight = 0.93763953)\n",
      "10:04:34.617 [pool-6-thread-15] INFO  Examples / Linear Regression - Train loss at iteration 20 = 0.0 (weight = 0.93763953)\n",
      "10:04:34.788 [pool-6-thread-15] INFO  Examples / Linear Regression - Train loss at iteration 21 = 0.0 (weight = 0.93763953)\n",
      "10:04:34.887 [pool-6-thread-15] INFO  Examples / Linear Regression - Train loss at iteration 22 = 0.0 (weight = 0.93763953)\n",
      "10:04:34.975 [pool-6-thread-15] INFO  Examples / Linear Regression - Train loss at iteration 23 = 0.0 (weight = 0.93763953)\n",
      "10:04:35.047 [pool-6-thread-15] INFO  Examples / Linear Regression - Train loss at iteration 24 = 0.0 (weight = 0.93763953)\n",
      "10:04:35.129 [pool-6-thread-15] INFO  Examples / Linear Regression - Train loss at iteration 25 = 0.0 (weight = 0.93763953)\n",
      "10:04:35.284 [pool-6-thread-15] INFO  Examples / Linear Regression - Train loss at iteration 26 = 0.0 (weight = 0.93763953)\n",
      "10:04:35.370 [pool-6-thread-15] INFO  Examples / Linear Regression - Train loss at iteration 27 = 0.0 (weight = 0.93763953)\n",
      "10:04:35.443 [pool-6-thread-15] INFO  Examples / Linear Regression - Train loss at iteration 28 = 0.0 (weight = 0.93763953)\n",
      "10:04:35.520 [pool-6-thread-15] INFO  Examples / Linear Regression - Train loss at iteration 29 = 0.0 (weight = 0.93763953)\n",
      "10:04:35.603 [pool-6-thread-15] INFO  Examples / Linear Regression - Train loss at iteration 30 = 0.0 (weight = 0.93763953)\n",
      "10:04:35.683 [pool-6-thread-15] INFO  Examples / Linear Regression - Train loss at iteration 31 = 0.0 (weight = 0.93763953)\n",
      "10:04:35.814 [pool-6-thread-15] INFO  Examples / Linear Regression - Train loss at iteration 32 = 0.0 (weight = 0.93763953)\n",
      "10:04:36.082 [pool-6-thread-15] INFO  Examples / Linear Regression - Train loss at iteration 33 = 0.0 (weight = 0.93763953)\n",
      "10:04:36.214 [pool-6-thread-15] INFO  Examples / Linear Regression - Train loss at iteration 34 = 0.0 (weight = 0.93763953)\n",
      "10:04:36.286 [pool-6-thread-15] INFO  Examples / Linear Regression - Train loss at iteration 35 = 0.0 (weight = 0.93763953)\n",
      "10:04:36.378 [pool-6-thread-15] INFO  Examples / Linear Regression - Train loss at iteration 36 = 0.0 (weight = 0.93763953)\n",
      "10:04:36.543 [pool-6-thread-15] INFO  Examples / Linear Regression - Train loss at iteration 37 = 0.0 (weight = 0.93763953)\n",
      "10:04:36.656 [pool-6-thread-15] INFO  Examples / Linear Regression - Train loss at iteration 38 = 0.0 (weight = 0.93763953)\n",
      "10:04:36.751 [pool-6-thread-15] INFO  Examples / Linear Regression - Train loss at iteration 39 = 0.0 (weight = 0.93763953)\n",
      "10:04:36.961 [pool-6-thread-15] INFO  Examples / Linear Regression - Train loss at iteration 40 = 0.0 (weight = 0.93763953)\n",
      "10:04:37.055 [pool-6-thread-15] INFO  Examples / Linear Regression - Train loss at iteration 41 = 0.0 (weight = 0.93763953)\n",
      "10:04:37.171 [pool-6-thread-15] INFO  Examples / Linear Regression - Train loss at iteration 42 = 0.0 (weight = 0.93763953)\n",
      "10:04:37.272 [pool-6-thread-15] INFO  Examples / Linear Regression - Train loss at iteration 43 = 0.0 (weight = 0.93763953)\n",
      "10:04:37.358 [pool-6-thread-15] INFO  Examples / Linear Regression - Train loss at iteration 44 = 0.0 (weight = 0.93763953)\n",
      "10:04:37.432 [pool-6-thread-15] INFO  Examples / Linear Regression - Train loss at iteration 45 = 0.0 (weight = 0.93763953)\n",
      "10:04:37.546 [pool-6-thread-15] INFO  Examples / Linear Regression - Train loss at iteration 46 = 0.0 (weight = 0.93763953)\n",
      "10:04:37.639 [pool-6-thread-15] INFO  Examples / Linear Regression - Train loss at iteration 47 = 0.0 (weight = 0.93763953)\n",
      "10:04:37.733 [pool-6-thread-15] INFO  Examples / Linear Regression - Train loss at iteration 48 = 0.0 (weight = 0.93763953)\n",
      "10:04:37.868 [pool-6-thread-15] INFO  Examples / Linear Regression - Train loss at iteration 49 = 0.0 (weight = 0.93763953)\n",
      "10:04:38.234 [pool-6-thread-15] INFO  Examples / Linear Regression - Train loss at iteration 50 = 0.0 (weight = 0.93763953)\n",
      "10:04:38.238 [pool-6-thread-15] INFO  Examples / Linear Regression - Trained weight value: 0.93763953\n",
      "10:04:38.239 [pool-6-thread-15] INFO  Examples / Linear Regression - True weight value: 0.93763953\n"
     ]
    }
   ],
   "source": [
    "LinearRegression.main(Array(\"\"))"
   ]
  },
  {
   "cell_type": "code",
   "execution_count": 29,
   "metadata": {},
   "outputs": [
    {
     "data": {
      "text/plain": [
       "\u001b[36mres28\u001b[39m: \u001b[32mString\u001b[39m = \u001b[32m\"version 2.11.11\"\u001b[39m"
      ]
     },
     "execution_count": 29,
     "metadata": {},
     "output_type": "execute_result"
    }
   ],
   "source": [
    "scala.util.Properties.versionString"
   ]
  },
  {
   "cell_type": "code",
   "execution_count": 6,
   "metadata": {},
   "outputs": [
    {
     "data": {
      "text/plain": [
       "\u001b[32mimport \u001b[39m\u001b[36morg.platanios.tensorflow.api._\n",
       "\u001b[39m\n",
       "\u001b[32mimport \u001b[39m\u001b[36morg.platanios.tensorflow.api.ops.variables.ConstantInitializer\n",
       "\u001b[39m"
      ]
     },
     "execution_count": 6,
     "metadata": {},
     "output_type": "execute_result"
    }
   ],
   "source": [
    "import org.platanios.tensorflow.api._\n",
    "import org.platanios.tensorflow.api.ops.variables.ConstantInitializer"
   ]
  },
  {
   "cell_type": "code",
   "execution_count": 7,
   "metadata": {},
   "outputs": [
    {
     "data": {
      "text/plain": [
       "\u001b[36msession\u001b[39m: \u001b[32mcore\u001b[39m.\u001b[32mclient\u001b[39m.\u001b[32mSession\u001b[39m = \u001b[33mSession\u001b[39m(\n",
       "  org.platanios.tensorflow.api.core.Graph$Reference@40457d6f,\n",
       "  \u001b[32m139738910416832L\u001b[39m\n",
       ")"
      ]
     },
     "execution_count": 7,
     "metadata": {},
     "output_type": "execute_result"
    }
   ],
   "source": [
    "//Get graph handle with the tf.Session()\n",
    "    val session = tf.Session()"
   ]
  },
  {
   "cell_type": "code",
   "execution_count": null,
   "metadata": {
    "collapsed": true
   },
   "outputs": [],
   "source": []
  }
 ],
 "metadata": {
  "kernelspec": {
   "display_name": "Scala",
   "language": "scala",
   "name": "scala"
  },
  "language_info": {
   "codemirror_mode": "text/x-scala",
   "file_extension": ".scala",
   "mimetype": "text/x-scala",
   "name": "scala211",
   "nbconvert_exporter": "script",
   "pygments_lexer": "scala",
   "version": "2.11.11"
  }
 },
 "nbformat": 4,
 "nbformat_minor": 1
}
